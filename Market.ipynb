{
 "cells": [
  {
   "cell_type": "code",
   "execution_count": null,
   "metadata": {},
   "outputs": [],
   "source": [
    "# Init harga\n",
    "priceApel = 10000\n",
    "priceJeruk = 15000\n",
    "priceAnggur = 20000\n",
    "\n",
    "\n",
    "# Input jumlah buah\n",
    "nApel = int(input(\"Input jumlah apel: \"))\n",
    "nJeruk = int(input(\"Input jumlah jeruk: \"))\n",
    "nAnggur = int(input(\"Input jumlah anggur: \"))\n",
    "\n",
    "# Hitung harga per buah\n",
    "totalPriceApel = nApel * priceApel\n",
    "totalPriceJeruk = nJeruk * priceJeruk \n",
    "totalPriceAnggur = nAnggur * priceAnggur\n",
    "\n",
    "# Hitung harga total buah\n",
    "priceTotal = totalPriceApel + totalPriceJeruk + totalPriceJeruk\n",
    "\n",
    "# Show\n",
    "print(f'''\n",
    "Detail Belanja\n",
    "\n",
    "Apel    : {nApel} x {priceApel}\n",
    "Jeruk   : {nJeruk} x {priceJeruk}\n",
    "Anggur  : {nAnggur} x {priceAnggur}\n",
    "Total   : {priceTotal}\n",
    "''')\n"
   ]
  },
  {
   "cell_type": "code",
   "execution_count": null,
   "metadata": {},
   "outputs": [],
   "source": []
  }
 ],
 "metadata": {
  "kernelspec": {
   "display_name": "Python 3",
   "language": "python",
   "name": "python3"
  },
  "language_info": {
   "name": "python",
   "version": "3.11.5"
  },
  "orig_nbformat": 4
 },
 "nbformat": 4,
 "nbformat_minor": 2
}
