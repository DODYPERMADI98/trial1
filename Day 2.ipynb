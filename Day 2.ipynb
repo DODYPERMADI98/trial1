{
 "cells": [
  {
   "cell_type": "code",
   "execution_count": 14,
   "metadata": {},
   "outputs": [],
   "source": [
    "# 1\n",
    "\n",
    "num = int (input ( 'masukan bilangan: '))\n",
    "reversed_num = 0\n",
    "sum = 0\n",
    "\n",
    "while num != 0:\n",
    "    digit = num % 10\n",
    "    sum = sum + digit\n",
    "    reversed_num = reversed_num * 10 + digit\n",
    "    num = num//10"
   ]
  },
  {
   "cell_type": "code",
   "execution_count": 15,
   "metadata": {},
   "outputs": [
    {
     "name": "stdout",
     "output_type": "stream",
     "text": [
      "reversed Number :  7654\n",
      "sum =  22\n"
     ]
    }
   ],
   "source": [
    "# 1\n",
    "\n",
    "num = int(('4567'))\n",
    "Reversed_num = 0\n",
    "sum = 0\n",
    "\n",
    "while num != 0:\n",
    "    digit = num % 10\n",
    "    sum = sum + digit\n",
    "    Reversed_num = reversed_num * 10 + digit\n",
    "    num = num//10\n",
    "\n",
    "print (\"Reversed Number: \", reversed_num)\n",
    "print ('sum = ',sum)"
   ]
  },
  {
   "cell_type": "code",
   "execution_count": 16,
   "metadata": {},
   "outputs": [
    {
     "name": "stdout",
     "output_type": "stream",
     "text": [
      "2.236068\n"
     ]
    }
   ],
   "source": [
    "# 2\n",
    "\n",
    "import math\n",
    "def distance(x1 , y1 , x2 , y2):\n",
    "\n",
    "    return math.sqrt(math.pow(x2 - x1, 2) + math.pow(y2 - y1, 2) * 1.0)\n",
    "\n",
    "print (\"%.6f\"%distance(2, 5, 3, 7))\n"
   ]
  },
  {
   "cell_type": "code",
   "execution_count": null,
   "metadata": {},
   "outputs": [],
   "source": [
    "# 2\n",
    "\n",
    "a = str(input[\"Enter the coordinate point a: \"]) = 2, 5\n",
    "b = str(input[\"Enter the coordinate point b: \"]) = 5, 6"
   ]
  },
  {
   "cell_type": "code",
   "execution_count": 26,
   "metadata": {},
   "outputs": [
    {
     "name": "stdout",
     "output_type": "stream",
     "text": [
      "dhiwa purka\n"
     ]
    }
   ],
   "source": [
    "# 3 \n",
    "\n",
    "def chars_mix_up(a, b): \n",
    "    new_a = b[:3] + a[3:]\n",
    "    new_b = a[:3] + b[3:]\n",
    "\n",
    "    return new_a + ' '+ new_b\n",
    "    \n",
    "    \n",
    "print (chars_mix_up('purwa', 'dhika'))"
   ]
  },
  {
   "cell_type": "code",
   "execution_count": 30,
   "metadata": {},
   "outputs": [
    {
     "name": "stdout",
     "output_type": "stream",
     "text": [
      "result: jPKdaA\n"
     ]
    }
   ],
   "source": [
    "# 4\n",
    "text_1 = 'joGjaKARTa'\n",
    "text_2 = 'PurWAdhiKA'\n",
    "\n",
    "result = f\"{text_1[0]}{text_2[0]}{text_1[5]}{text_2[-5]}{text_1[-1]}{text_2[-1]}\"\n",
    "print (\"result:\", result)"
   ]
  },
  {
   "cell_type": "code",
   "execution_count": 28,
   "metadata": {},
   "outputs": [
    {
     "name": "stdout",
     "output_type": "stream",
     "text": [
      "result: JC210DS\n"
     ]
    }
   ],
   "source": [
    "# 5\n",
    "\n",
    "text_1 = 'JCDS'\n",
    "text_2 = '210'\n",
    "\n",
    "result = f\"{text_1[:len(text_1)//2]}{text_2}{text_1[len(text_1)//2:]}\"\n",
    "print (\"result:\", result)"
   ]
  }
 ],
 "metadata": {
  "kernelspec": {
   "display_name": "Python 3",
   "language": "python",
   "name": "python3"
  },
  "language_info": {
   "codemirror_mode": {
    "name": "ipython",
    "version": 3
   },
   "file_extension": ".py",
   "mimetype": "text/x-python",
   "name": "python",
   "nbconvert_exporter": "python",
   "pygments_lexer": "ipython3",
   "version": "3.11.5"
  },
  "orig_nbformat": 4
 },
 "nbformat": 4,
 "nbformat_minor": 2
}
